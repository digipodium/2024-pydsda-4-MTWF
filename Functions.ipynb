{
 "cells": [
  {
   "cell_type": "markdown",
   "metadata": {},
   "source": [
    "TYPES\n",
    "- parameterized\n",
    "- non-parameterized\n",
    "- return\n",
    "- non return\n",
    "- default parameters"
   ]
  },
  {
   "cell_type": "code",
   "execution_count": 11,
   "metadata": {},
   "outputs": [],
   "source": [
    "#non parameterized function\n",
    "def my_func():\n",
    "    print(\"Hello from my_func\")\n",
    "    print(\"This is a function\")\n",
    "    print(\"Goodbye!\")"
   ]
  },
  {
   "cell_type": "code",
   "execution_count": 12,
   "metadata": {},
   "outputs": [
    {
     "name": "stdout",
     "output_type": "stream",
     "text": [
      "Hello from my_func\n",
      "This is a function\n",
      "Goodbye!\n"
     ]
    }
   ],
   "source": [
    "my_func()"
   ]
  },
  {
   "cell_type": "code",
   "execution_count": 13,
   "metadata": {},
   "outputs": [
    {
     "name": "stdout",
     "output_type": "stream",
     "text": [
      "Hello John\n",
      "Goodbye John\n"
     ]
    }
   ],
   "source": [
    "#parameterized function\n",
    "def name(name):\n",
    "    print(\"Hello\", name)\n",
    "    print(\"Goodbye\", name)\n",
    "\n",
    "name(\"John\")"
   ]
  },
  {
   "cell_type": "code",
   "execution_count": 19,
   "metadata": {},
   "outputs": [],
   "source": [
    "def add(a, b):\n",
    "    print(a + b)"
   ]
  },
  {
   "cell_type": "code",
   "execution_count": 20,
   "metadata": {},
   "outputs": [
    {
     "name": "stdout",
     "output_type": "stream",
     "text": [
      "15\n"
     ]
    }
   ],
   "source": [
    "add(5, 10)"
   ]
  },
  {
   "cell_type": "code",
   "execution_count": 21,
   "metadata": {},
   "outputs": [],
   "source": [
    "def average(a, b):\n",
    "    print((a + b) / 2)"
   ]
  },
  {
   "cell_type": "code",
   "execution_count": 22,
   "metadata": {},
   "outputs": [
    {
     "name": "stdout",
     "output_type": "stream",
     "text": [
      "15.0\n"
     ]
    }
   ],
   "source": [
    "average(10,20)"
   ]
  },
  {
   "cell_type": "code",
   "execution_count": 24,
   "metadata": {},
   "outputs": [
    {
     "name": "stdout",
     "output_type": "stream",
     "text": [
      "25\n"
     ]
    }
   ],
   "source": [
    "#return\n",
    "def func(x):\n",
    "    return 5*x\n",
    "\n",
    "a = func(5)\n",
    "print(a)"
   ]
  },
  {
   "cell_type": "code",
   "execution_count": 25,
   "metadata": {},
   "outputs": [
    {
     "name": "stdout",
     "output_type": "stream",
     "text": [
      "None\n"
     ]
    }
   ],
   "source": [
    "#non return\n",
    "def func(x):\n",
    "     5*x\n",
    "\n",
    "a = func(5)\n",
    "print(a)"
   ]
  },
  {
   "cell_type": "code",
   "execution_count": 26,
   "metadata": {},
   "outputs": [],
   "source": [
    "#default parameterized function\n",
    "def my_country(country = \"India\"):\n",
    "    print(\"I am from\", country)"
   ]
  },
  {
   "cell_type": "code",
   "execution_count": 27,
   "metadata": {},
   "outputs": [
    {
     "name": "stdout",
     "output_type": "stream",
     "text": [
      "I am from USA\n",
      "I am from UK\n",
      "I am from India\n",
      "I am from Canada\n"
     ]
    }
   ],
   "source": [
    "my_country(\"USA\")\n",
    "my_country(\"UK\")\n",
    "my_country()\n",
    "my_country(\"Canada\")"
   ]
  },
  {
   "cell_type": "code",
   "execution_count": 28,
   "metadata": {},
   "outputs": [
    {
     "name": "stdout",
     "output_type": "stream",
     "text": [
      "apple\n",
      "banana\n",
      "cherry\n",
      "mango\n"
     ]
    }
   ],
   "source": [
    "def fruits(fruit):\n",
    "    for x in fruit:\n",
    "        print(x)\n",
    "\n",
    "fruits([\"apple\", \"banana\", \"cherry\", \"mango\"])"
   ]
  },
  {
   "cell_type": "code",
   "execution_count": 29,
   "metadata": {},
   "outputs": [
    {
     "name": "stdout",
     "output_type": "stream",
     "text": [
      "Odd\n"
     ]
    }
   ],
   "source": [
    "#function for even odd number\n",
    "def even_odd(x):\n",
    "    if x % 2 == 0:\n",
    "        print(\"Even\")\n",
    "    else:\n",
    "        print(\"Odd\")\n",
    "\n",
    "even_odd(5)"
   ]
  },
  {
   "cell_type": "code",
   "execution_count": 30,
   "metadata": {},
   "outputs": [],
   "source": [
    "#lambda function for even odd number\n",
    "even_odd = lambda x: \"Even\" if x % 2 == 0 else \"Odd\""
   ]
  },
  {
   "cell_type": "code",
   "execution_count": 31,
   "metadata": {},
   "outputs": [
    {
     "name": "stdout",
     "output_type": "stream",
     "text": [
      "True\n"
     ]
    }
   ],
   "source": [
    "even = lambda a : a % 2 == 0\n",
    "print(even(2))"
   ]
  },
  {
   "cell_type": "markdown",
   "metadata": {},
   "source": [
    "- Check a number is prime or not\n",
    "- Convert temperature celcius to fahrenheit\n",
    "- Find maximum of three numbers\n",
    "- Calculate factorial\n",
    "- Reverse of a string\n",
    "- Count vowels in a string\n",
    "- Calculate BMI (Body Mass Index)"
   ]
  },
  {
   "cell_type": "code",
   "execution_count": null,
   "metadata": {},
   "outputs": [],
   "source": []
  }
 ],
 "metadata": {
  "kernelspec": {
   "display_name": "base",
   "language": "python",
   "name": "python3"
  },
  "language_info": {
   "codemirror_mode": {
    "name": "ipython",
    "version": 3
   },
   "file_extension": ".py",
   "mimetype": "text/x-python",
   "name": "python",
   "nbconvert_exporter": "python",
   "pygments_lexer": "ipython3",
   "version": "3.12.3"
  }
 },
 "nbformat": 4,
 "nbformat_minor": 2
}
