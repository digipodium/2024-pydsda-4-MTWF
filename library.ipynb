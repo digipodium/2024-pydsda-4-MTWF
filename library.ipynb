{
 "cells": [
  {
   "cell_type": "code",
   "execution_count": 1,
   "metadata": {},
   "outputs": [],
   "source": [
    "import math"
   ]
  },
  {
   "cell_type": "code",
   "execution_count": 2,
   "metadata": {},
   "outputs": [
    {
     "name": "stdout",
     "output_type": "stream",
     "text": [
      "5.0\n",
      "8.0\n",
      "0.8414709848078965\n",
      "4\n",
      "24\n"
     ]
    }
   ],
   "source": [
    "print(math.sqrt(25))\n",
    "print(math.pow(2, 3))\n",
    "print(math.sin(1))\n",
    "print(math.gcd(12, 8))\n",
    "print(math.lcm(12, 8))"
   ]
  },
  {
   "cell_type": "code",
   "execution_count": 3,
   "metadata": {},
   "outputs": [
    {
     "name": "stdout",
     "output_type": "stream",
     "text": [
      "get a random number between 0 and 1: 0.697315654067394\n",
      "get a random number between 1 and 100: 48\n",
      "get a random element from a list: 2\n",
      "shuffle a list: ['David', 'Bob', 'Alice', 'Eve', 'Charlie']\n"
     ]
    }
   ],
   "source": [
    "from random import random, randint, choice, shuffle\n",
    "print('get a random number between 0 and 1:', random())\n",
    "print('get a random number between 1 and 100:', randint(1, 100))\n",
    "print('get a random element from a list:', choice([1, 2, 3, 4, 5]))\n",
    "names = ['Alice', 'Bob', 'Charlie', 'David', 'Eve']\n",
    "shuffle(names)\n",
    "print('shuffle a list:', names) \n"
   ]
  },
  {
   "cell_type": "code",
   "execution_count": 4,
   "metadata": {},
   "outputs": [],
   "source": [
    "from datetime import datetime as dt"
   ]
  },
  {
   "cell_type": "code",
   "execution_count": 5,
   "metadata": {},
   "outputs": [
    {
     "name": "stdout",
     "output_type": "stream",
     "text": [
      "Current date and time: 2025-02-07 16:14:40.652339\n"
     ]
    }
   ],
   "source": [
    "print(\"Current date and time:\", dt.now())"
   ]
  },
  {
   "cell_type": "code",
   "execution_count": 6,
   "metadata": {},
   "outputs": [
    {
     "name": "stdout",
     "output_type": "stream",
     "text": [
      "Current year: 2025\n",
      "Current month: 2\n",
      "Current day: 7\n",
      "Current hour: 16\n",
      "Current minute: 14\n",
      "Current second: 40\n"
     ]
    }
   ],
   "source": [
    "print(\"Current year:\", dt.now().year)\n",
    "print(\"Current month:\", dt.now().month)\n",
    "print(\"Current day:\", dt.now().day)\n",
    "print(\"Current hour:\", dt.now().hour)\n",
    "print(\"Current minute:\", dt.now().minute)\n",
    "print(\"Current second:\", dt.now().second)"
   ]
  },
  {
   "cell_type": "code",
   "execution_count": 7,
   "metadata": {},
   "outputs": [],
   "source": [
    "import os"
   ]
  },
  {
   "cell_type": "code",
   "execution_count": 8,
   "metadata": {},
   "outputs": [
    {
     "name": "stdout",
     "output_type": "stream",
     "text": [
      "current working directory: c:\\Users\\LENOVO\\Documents\\2024-pydsda-4-MTWF\n"
     ]
    }
   ],
   "source": [
    "print('current working directory:', os.getcwd())"
   ]
  },
  {
   "cell_type": "code",
   "execution_count": 9,
   "metadata": {},
   "outputs": [
    {
     "name": "stdout",
     "output_type": "stream",
     "text": [
      "files in the current directory: ['.git', 'base.ipynb', 'basic.py', 'Conditions.ipynb', 'Data Structures', 'datatypes.ipynb', 'Functions.ipynb', 'library.ipynb', 'loop.ipynb', 'operators.ipynb']\n",
      "10 files found\n"
     ]
    }
   ],
   "source": [
    "files = os.listdir()\n",
    "print('files in the current directory:', files)\n",
    "print(len(files), 'files found')"
   ]
  },
  {
   "cell_type": "code",
   "execution_count": 10,
   "metadata": {},
   "outputs": [
    {
     "name": "stdout",
     "output_type": "stream",
     "text": [
      "files in the directory: ['.git', 'backend', 'frontend', 'internship-concept-illustration_114360-6225.avif', 'package-lock.json', 'package.json']\n"
     ]
    }
   ],
   "source": [
    "files = os.listdir(r\"C:\\Users\\LENOVO\\Documents\\GeekSquad\")\n",
    "print('files in the directory:', files)"
   ]
  },
  {
   "cell_type": "code",
   "execution_count": 11,
   "metadata": {},
   "outputs": [
    {
     "name": "stdout",
     "output_type": "stream",
     "text": [
      "=> C:\n",
      "folders: ['.git', 'Data Structures']\n",
      "files: ['base.ipynb', 'basic.py', 'Conditions.ipynb', 'datatypes.ipynb', 'Functions.ipynb', 'library.ipynb', 'loop.ipynb', 'operators.ipynb']\n",
      "=> C:.git\n",
      "folders: ['hooks', 'info', 'logs', 'objects', 'refs']\n",
      "files: ['COMMIT_EDITMSG', 'config', 'description', 'FETCH_HEAD', 'HEAD', 'index']\n",
      "=> C:.git\\hooks\n",
      "folders: []\n",
      "files: ['applypatch-msg.sample', 'commit-msg.sample', 'fsmonitor-watchman.sample', 'post-update.sample', 'pre-applypatch.sample', 'pre-commit.sample', 'pre-merge-commit.sample', 'pre-push.sample', 'pre-rebase.sample', 'pre-receive.sample', 'prepare-commit-msg.sample', 'push-to-checkout.sample', 'sendemail-validate.sample', 'update.sample']\n",
      "=> C:.git\\info\n",
      "folders: []\n",
      "files: ['exclude']\n",
      "=> C:.git\\logs\n",
      "folders: ['refs']\n",
      "files: ['HEAD']\n",
      "=> C:.git\\logs\\refs\n",
      "folders: ['heads', 'remotes']\n",
      "files: []\n",
      "=> C:.git\\logs\\refs\\heads\n",
      "folders: []\n",
      "files: ['main']\n",
      "=> C:.git\\logs\\refs\\remotes\n",
      "folders: ['origin']\n",
      "files: []\n",
      "=> C:.git\\logs\\refs\\remotes\\origin\n",
      "folders: []\n",
      "files: ['main']\n",
      "=> C:.git\\objects\n",
      "folders: ['24', '2f', '3b', '48', '4b', '4e', '93', 'ae', 'bf', 'ca', 'e6', 'e8', 'ea', 'ef', 'info', 'pack']\n",
      "files: []\n",
      "=> C:.git\\objects\\24\n",
      "folders: []\n",
      "files: ['3d7166d8d99fb94e7318b61e8289fbfdfd7790']\n",
      "=> C:.git\\objects\\2f\n",
      "folders: []\n",
      "files: ['86bb5242f5b25ac68cb61dae89bd8e2dfba2f0']\n",
      "=> C:.git\\objects\\3b\n",
      "folders: []\n",
      "files: ['6d7eede1a39fd26f075f078b1da4c56b38a8d4', '760a2ed6ca7cbf819890da6da32633f056a3c7']\n",
      "=> C:.git\\objects\\48\n",
      "folders: []\n",
      "files: ['a5a076b85c211a966d4ab9f8d2f5f2cb02a9f3']\n",
      "=> C:.git\\objects\\4b\n",
      "folders: []\n",
      "files: ['95a37125493c2e00efdc1dd10eb49a26c89dd3']\n",
      "=> C:.git\\objects\\4e\n",
      "folders: []\n",
      "files: ['80c0a76f47d871e32256460982f14c1e1ee166']\n",
      "=> C:.git\\objects\\93\n",
      "folders: []\n",
      "files: ['fa3eaaf653a2a3c15ecd7677d91c8036972375']\n",
      "=> C:.git\\objects\\ae\n",
      "folders: []\n",
      "files: ['dd4c35bee9e00ca0a0dd7b0b2c74797928a7ad']\n",
      "=> C:.git\\objects\\bf\n",
      "folders: []\n",
      "files: ['d205dbed7c2703a52ff76bcacd694032ef76cf']\n",
      "=> C:.git\\objects\\ca\n",
      "folders: []\n",
      "files: ['8f6f040f1727f07befb208032f9208e60802f6']\n",
      "=> C:.git\\objects\\e6\n",
      "folders: []\n",
      "files: ['9de29bb2d1d6434b8b29ae775ad8c2e48c5391']\n",
      "=> C:.git\\objects\\e8\n",
      "folders: []\n",
      "files: ['f359e67c47fa25bb6439f963288643263f08da']\n",
      "=> C:.git\\objects\\ea\n",
      "folders: []\n",
      "files: ['14ce88c84a1178ec2ab6322b0e14957d88057a', '72a60929c8b0542011078bd2618b6a4971e358']\n",
      "=> C:.git\\objects\\ef\n",
      "folders: []\n",
      "files: ['7eb83b9c557d9c052434034fb638701a9b83a9']\n",
      "=> C:.git\\objects\\info\n",
      "folders: []\n",
      "files: []\n",
      "=> C:.git\\objects\\pack\n",
      "folders: []\n",
      "files: []\n",
      "=> C:.git\\refs\n",
      "folders: ['heads', 'remotes', 'tags']\n",
      "files: []\n",
      "=> C:.git\\refs\\heads\n",
      "folders: []\n",
      "files: ['main']\n",
      "=> C:.git\\refs\\remotes\n",
      "folders: ['origin']\n",
      "files: []\n",
      "=> C:.git\\refs\\remotes\\origin\n",
      "folders: []\n",
      "files: ['main']\n",
      "=> C:.git\\refs\\tags\n",
      "folders: []\n",
      "files: []\n",
      "=> C:Data Structures\n",
      "folders: []\n",
      "files: ['dictionary.ipynb', 'List.ipynb', 'sets.ipynb', 'string.ipynb']\n",
      "total files found: 54\n"
     ]
    }
   ],
   "source": [
    "total_files = 0\n",
    "for path, folders, files in os.walk(\"C:\"):\n",
    "    print('=>', path)\n",
    "    print('folders:', folders)\n",
    "    print('files:', files)\n",
    "    total_files += len(files)\n",
    "print('total files found:', total_files)\n"
   ]
  },
  {
   "cell_type": "code",
   "execution_count": 14,
   "metadata": {},
   "outputs": [
    {
     "name": "stdout",
     "output_type": "stream",
     "text": [
      "C:\\Users\\LENOVO\\Documents\\Gemini exists\n"
     ]
    }
   ],
   "source": [
    "file = r\"C:\\Users\\LENOVO\\Documents\\Gemini\"\n",
    "if os.path.exists(file):\n",
    "    print(file, 'exists')\n",
    "else:\n",
    "    print(file, 'does not exist')"
   ]
  },
  {
   "cell_type": "code",
   "execution_count": 15,
   "metadata": {},
   "outputs": [
    {
     "name": "stdout",
     "output_type": "stream",
     "text": [
      "Folder exists\n",
      "Folder size: 4096 bytes\n",
      "Folder size in kb: 4.0 KB\n",
      "Folder size in MB: 0.00390625 MB\n",
      "Folder size in GB: 3.814697265625e-06 GB\n"
     ]
    }
   ],
   "source": [
    "files = r\"C:\\Users\\LENOVO\\Documents\\GeekSquad\"\n",
    "if os.path.exists(files):\n",
    "    print(\"Folder exists\")\n",
    "    size = os.path.getsize(files)\n",
    "    print('Folder size:', size, 'bytes')\n",
    "    print('Folder size in kb:', size / 1024, 'KB')\n",
    "    print('Folder size in MB:', size / 1024 / 1024, 'MB')\n",
    "    print('Folder size in GB:', size / 1024 / 1024 / 1024, 'GB')\n",
    "    "
   ]
  },
  {
   "cell_type": "code",
   "execution_count": null,
   "metadata": {},
   "outputs": [],
   "source": []
  }
 ],
 "metadata": {
  "kernelspec": {
   "display_name": "base",
   "language": "python",
   "name": "python3"
  },
  "language_info": {
   "codemirror_mode": {
    "name": "ipython",
    "version": 3
   },
   "file_extension": ".py",
   "mimetype": "text/x-python",
   "name": "python",
   "nbconvert_exporter": "python",
   "pygments_lexer": "ipython3",
   "version": "3.12.3"
  }
 },
 "nbformat": 4,
 "nbformat_minor": 2
}
