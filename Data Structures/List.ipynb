{
 "cells": [
  {
   "cell_type": "code",
   "execution_count": 2,
   "metadata": {},
   "outputs": [
    {
     "name": "stdout",
     "output_type": "stream",
     "text": [
      "['google', 'drive', 'instagram', 'snapchat', 'facebook', 'swiggy', 'zomato', 'uber', 'rapido', 'gpay', 'spotify', 'wynk']\n"
     ]
    }
   ],
   "source": [
    "apps = ['google','drive','instagram','snapchat','facebook', 'swiggy', 'zomato','uber','rapido','gpay','spotify','wynk']\n",
    "print(apps)"
   ]
  },
  {
   "cell_type": "markdown",
   "metadata": {},
   "source": [
    "INDEXING"
   ]
  },
  {
   "cell_type": "code",
   "execution_count": 3,
   "metadata": {},
   "outputs": [
    {
     "name": "stdout",
     "output_type": "stream",
     "text": [
      "swiggy\n"
     ]
    }
   ],
   "source": [
    "print(apps[5])"
   ]
  },
  {
   "cell_type": "markdown",
   "metadata": {},
   "source": [
    "SLICING\n"
   ]
  },
  {
   "cell_type": "code",
   "execution_count": 8,
   "metadata": {},
   "outputs": [
    {
     "name": "stdout",
     "output_type": "stream",
     "text": [
      "['instagram', 'snapchat', 'facebook']\n",
      "['drive', 'snapchat', 'swiggy', 'uber', 'gpay']\n",
      "['facebook', 'swiggy', 'zomato', 'uber', 'rapido', 'gpay', 'spotify', 'wynk']\n",
      "['google', 'drive', 'instagram', 'snapchat', 'facebook', 'swiggy', 'zomato', 'uber', 'rapido']\n",
      "['google', 'drive', 'instagram', 'snapchat', 'facebook', 'swiggy', 'zomato', 'uber', 'rapido', 'gpay', 'spotify', 'wynk']\n"
     ]
    }
   ],
   "source": [
    "print(apps[2:5])\n",
    "print(apps[1:10:2])\n",
    "print(apps[4:])\n",
    "print(apps[:9])\n",
    "print(apps[:])"
   ]
  },
  {
   "cell_type": "markdown",
   "metadata": {},
   "source": [
    "List Methods\n",
    "- append() : to add an element at the end of the list\n",
    "- insert() : to tadd an element at any specific position\n",
    "- pop() : to delete an item using the index position\n",
    "- remove() : to delete an item using it's name\n",
    "- sort() : to sort the list in a particular order\n",
    "- copy() : to make aa copy of the list\n",
    "- extend() : to combine to list into a one list\n",
    "- clear() : delete all elements from the list but not the list"
   ]
  },
  {
   "cell_type": "code",
   "execution_count": 9,
   "metadata": {},
   "outputs": [
    {
     "name": "stdout",
     "output_type": "stream",
     "text": [
      "['google', 'drive', 'instagram', 'snapchat', 'facebook', 'swiggy', 'zomato', 'uber', 'rapido', 'gpay', 'spotify', 'wynk']\n"
     ]
    }
   ],
   "source": [
    "print(apps)"
   ]
  },
  {
   "cell_type": "code",
   "execution_count": 11,
   "metadata": {},
   "outputs": [
    {
     "name": "stdout",
     "output_type": "stream",
     "text": [
      "['google', 'drive', 'instagram', 'snapchat', 'facebook', 'swiggy', 'zomato', 'uber', 'rapido', 'gpay', 'spotify', 'wynk', 'whatsapp', 'whatsapp']\n"
     ]
    }
   ],
   "source": [
    "apps.append('whatsapp')\n",
    "print(apps)"
   ]
  },
  {
   "cell_type": "code",
   "execution_count": 12,
   "metadata": {},
   "outputs": [
    {
     "name": "stdout",
     "output_type": "stream",
     "text": [
      "['google', 'drive', 'instagram', 'radio', 'snapchat', 'facebook', 'swiggy', 'zomato', 'uber', 'rapido', 'gpay', 'spotify', 'wynk', 'whatsapp', 'whatsapp']\n"
     ]
    }
   ],
   "source": [
    "apps.insert(3,'radio')\n",
    "print(apps)"
   ]
  },
  {
   "cell_type": "code",
   "execution_count": 13,
   "metadata": {},
   "outputs": [
    {
     "data": {
      "text/plain": [
       "'whatsapp'"
      ]
     },
     "execution_count": 13,
     "metadata": {},
     "output_type": "execute_result"
    }
   ],
   "source": [
    "apps.pop(-1)"
   ]
  },
  {
   "cell_type": "code",
   "execution_count": 14,
   "metadata": {},
   "outputs": [
    {
     "name": "stdout",
     "output_type": "stream",
     "text": [
      "['google', 'drive', 'instagram', 'radio', 'snapchat', 'facebook', 'swiggy', 'zomato', 'uber', 'rapido', 'gpay', 'spotify', 'wynk', 'whatsapp']\n"
     ]
    }
   ],
   "source": [
    "print(apps)"
   ]
  },
  {
   "cell_type": "code",
   "execution_count": 15,
   "metadata": {},
   "outputs": [
    {
     "name": "stdout",
     "output_type": "stream",
     "text": [
      "['google', 'drive', 'instagram', 'radio', 'snapchat', 'facebook', 'swiggy', 'zomato', 'uber', 'rapido', 'gpay', 'spotify', 'whatsapp']\n"
     ]
    }
   ],
   "source": [
    "apps.remove('wynk')\n",
    "print(apps)"
   ]
  },
  {
   "cell_type": "code",
   "execution_count": 17,
   "metadata": {},
   "outputs": [
    {
     "name": "stdout",
     "output_type": "stream",
     "text": [
      "['drive', 'facebook', 'google', 'gpay', 'instagram', 'radio', 'rapido', 'snapchat', 'spotify', 'swiggy', 'uber', 'whatsapp', 'zomato']\n"
     ]
    }
   ],
   "source": [
    "apps.sort()\n",
    "print(apps)"
   ]
  },
  {
   "cell_type": "code",
   "execution_count": 18,
   "metadata": {},
   "outputs": [
    {
     "name": "stdout",
     "output_type": "stream",
     "text": [
      "['drive', 'facebook', 'google', 'gpay', 'instagram', 'radio', 'rapido', 'snapchat', 'spotify', 'swiggy', 'uber', 'whatsapp', 'zomato']\n"
     ]
    }
   ],
   "source": [
    "apps2 = apps.copy()\n",
    "print(apps2)"
   ]
  },
  {
   "cell_type": "code",
   "execution_count": 19,
   "metadata": {},
   "outputs": [
    {
     "name": "stdout",
     "output_type": "stream",
     "text": [
      "['drive', 'facebook', 'google', 'gpay', 'instagram', 'radio', 'rapido', 'snapchat', 'spotify', 'swiggy', 'uber', 'whatsapp', 'zomato', 'drive', 'facebook', 'google', 'gpay', 'instagram', 'radio', 'rapido', 'snapchat', 'spotify', 'swiggy', 'uber', 'whatsapp', 'zomato']\n"
     ]
    }
   ],
   "source": [
    "apps.extend(apps2)\n",
    "print(apps)"
   ]
  },
  {
   "cell_type": "code",
   "execution_count": 20,
   "metadata": {},
   "outputs": [],
   "source": [
    "apps2.clear()"
   ]
  },
  {
   "cell_type": "code",
   "execution_count": 21,
   "metadata": {},
   "outputs": [
    {
     "name": "stdout",
     "output_type": "stream",
     "text": [
      "[]\n"
     ]
    }
   ],
   "source": [
    "print(apps2)"
   ]
  },
  {
   "cell_type": "code",
   "execution_count": null,
   "metadata": {},
   "outputs": [],
   "source": []
  }
 ],
 "metadata": {
  "kernelspec": {
   "display_name": "base",
   "language": "python",
   "name": "python3"
  },
  "language_info": {
   "codemirror_mode": {
    "name": "ipython",
    "version": 3
   },
   "file_extension": ".py",
   "mimetype": "text/x-python",
   "name": "python",
   "nbconvert_exporter": "python",
   "pygments_lexer": "ipython3",
   "version": "3.12.3"
  }
 },
 "nbformat": 4,
 "nbformat_minor": 2
}
